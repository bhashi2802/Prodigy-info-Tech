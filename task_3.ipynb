{
  "nbformat": 4,
  "nbformat_minor": 0,
  "metadata": {
    "colab": {
      "provenance": [],
      "authorship_tag": "ABX9TyMQd2WMvR2c17NF3LwH8+6t",
      "include_colab_link": true
    },
    "kernelspec": {
      "name": "python3",
      "display_name": "Python 3"
    },
    "language_info": {
      "name": "python"
    }
  },
  "cells": [
    {
      "cell_type": "markdown",
      "metadata": {
        "id": "view-in-github",
        "colab_type": "text"
      },
      "source": [
        "<a href=\"https://colab.research.google.com/github/bhashi2802/prodigy-info-tech/blob/main/task_3.ipynb\" target=\"_parent\"><img src=\"https://colab.research.google.com/assets/colab-badge.svg\" alt=\"Open In Colab\"/></a>"
      ]
    },
    {
      "cell_type": "code",
      "execution_count": null,
      "metadata": {
        "id": "dykjlB6WXgkL"
      },
      "outputs": [],
      "source": [
        "\n",
        "import re\n",
        "\n",
        "def assess_password_strength(password):\n",
        "    # Define criteria\n",
        "    min_length = 8\n",
        "    special_characters = r'!@#$%^&*()_+[]{}|;:,.<>?'\n",
        "\n",
        "    # Check password length\n",
        "    length_criteria = len(password) >= min_length\n",
        "\n",
        "    # Check for uppercase letter\n",
        "    uppercase_criteria = bool(re.search(r'[A-Z]', password))\n",
        "\n",
        "    # Check for lowercase letter\n",
        "    lowercase_criteria = bool(re.search(r'[a-z]', password))\n",
        "\n",
        "    # Check for digit\n",
        "    digit_criteria = bool(re.search(r'\\d', password))\n",
        "\n",
        "    # Check for special character\n",
        "    special_char_criteria = bool(re.search(r'[!@#$%^&*()_+[\\]{}|;:,.<>?]', password))\n",
        "\n",
        "    # Determine overall strength\n",
        "    if all([length_criteria, uppercase_criteria, lowercase_criteria, digit_criteria, special_char_criteria]):\n",
        "        strength = \"Strong\"\n",
        "    elif length_criteria and (uppercase_criteria or lowercase_criteria) and (digit_criteria or special_char_criteria):\n",
        "        strength = \"Moderate\"\n",
        "    else:\n",
        "        strength = \"Weak\"\n",
        "\n",
        "    # Provide feedback\n",
        "    feedback = []\n",
        "    if not length_criteria:\n",
        "        feedback.append(f\"Password should be at least {min_length} characters long.\")\n",
        "    if not uppercase_criteria:\n",
        "        feedback.append(\"Password should contain at least one uppercase letter.\")\n",
        "    if not lowercase_criteria:\n",
        "        feedback.append(\"Password should contain at least one lowercase letter.\")\n",
        "    if not digit_criteria:\n",
        "        feedback.append(\"Password should contain at least one digit.\")\n",
        "    if not special_char_criteria:\n",
        "        feedback.append(\"Password should contain at least one special character.\")\n",
        "\n",
        "    return strength, feedback\n",
        "\n",
        "# Example usage\n",
        "password = input(\"Enter your password: \")\n",
        "strength, feedback = assess_password_strength(password)\n",
        "\n",
        "print(f\"Password Strength: {strength}\")\n",
        "if feedback:\n",
        "    print(\"Feedback:\")\n",
        "    for line in feedback:\n",
        "        print(f\" - {line}\")\n"
      ]
    }
  ]
}