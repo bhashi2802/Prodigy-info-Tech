{
  "nbformat": 4,
  "nbformat_minor": 0,
  "metadata": {
    "colab": {
      "provenance": [],
      "authorship_tag": "ABX9TyNkCD5AHPXrFJqifdvzHlQw",
      "include_colab_link": true
    },
    "kernelspec": {
      "name": "python3",
      "display_name": "Python 3"
    },
    "language_info": {
      "name": "python"
    }
  },
  "cells": [
    {
      "cell_type": "markdown",
      "metadata": {
        "id": "view-in-github",
        "colab_type": "text"
      },
      "source": [
        "<a href=\"https://colab.research.google.com/github/bhashi2802/prodigy-info-tech/blob/main/Untitled1.ipynb\" target=\"_parent\"><img src=\"https://colab.research.google.com/assets/colab-badge.svg\" alt=\"Open In Colab\"/></a>"
      ]
    },
    {
      "cell_type": "code",
      "execution_count": null,
      "metadata": {
        "id": "7AgxLnBRbL12"
      },
      "outputs": [],
      "source": [
        "from scapy.all import sniff, IP, TCP, UDP, Raw\n",
        "import textwrap\n",
        "\n",
        "def format_payload(payload):\n",
        "    \"\"\" Format payload for better readability. \"\"\"\n",
        "    if isinstance(payload, bytes):\n",
        "        return textwrap.fill(payload.decode(errors='ignore'), width=50)\n",
        "    return str(payload)\n",
        "\n",
        "def packet_callback(packet):\n",
        "    \"\"\" Callback function to process each packet. \"\"\"\n",
        "    if IP in packet:\n",
        "        ip_layer = packet[IP]\n",
        "        src_ip = ip_layer.src\n",
        "        dst_ip = ip_layer.dst\n",
        "        protocol = ip_layer.proto\n",
        "\n",
        "        print(f\"Source IP: {src_ip}\")\n",
        "        print(f\"Destination IP: {dst_ip}\")\n",
        "        print(f\"Protocol: {protocol}\")\n",
        "\n",
        "        if TCP in packet:\n",
        "            tcp_layer = packet[TCP]\n",
        "            print(f\"Source Port: {tcp_layer.sport}\")\n",
        "            print(f\"Destination Port: {tcp_layer.dport}\")\n",
        "\n",
        "        elif UDP in packet:\n",
        "            udp_layer = packet[UDP]\n",
        "            print(f\"Source Port: {udp_layer.sport}\")\n",
        "            print(f\"Destination Port: {udp_layer.dport}\")\n",
        "\n",
        "        if Raw in packet:\n",
        "            payload = packet[Raw].load\n",
        "            print(f\"Payload:\\n{format_payload(payload)}\")\n",
        "\n",
        "        print(\"-\" * 50)\n",
        "\n",
        "def main():\n",
        "    \"\"\" Main function to start packet sniffing. \"\"\"\n",
        "    print(\"Starting packet sniffer...\")\n",
        "    sniff(prn=packet_callback, store=0)\n",
        "\n",
        "if __name__ == \"__main__\":\n",
        "    main()\n"
      ]
    }
  ]
}