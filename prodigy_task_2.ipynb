{
  "nbformat": 4,
  "nbformat_minor": 0,
  "metadata": {
    "colab": {
      "provenance": [],
      "authorship_tag": "ABX9TyPOk/YfAEYd7muJXEAbovFu",
      "include_colab_link": true
    },
    "kernelspec": {
      "name": "python3",
      "display_name": "Python 3"
    },
    "language_info": {
      "name": "python"
    }
  },
  "cells": [
    {
      "cell_type": "markdown",
      "metadata": {
        "id": "view-in-github",
        "colab_type": "text"
      },
      "source": [
        "<a href=\"https://colab.research.google.com/github/bhashi2802/prodigy-info-tech/blob/main/prodigy_task_2.ipynb\" target=\"_parent\"><img src=\"https://colab.research.google.com/assets/colab-badge.svg\" alt=\"Open In Colab\"/></a>"
      ]
    },
    {
      "cell_type": "code",
      "execution_count": 2,
      "metadata": {
        "id": "1Tr6MkGMSFbN"
      },
      "outputs": [],
      "source": [
        "def encrypt_image(image_path, output_path, key):\n",
        "    # Open the image and convert it to RGB\n",
        "    img = Image.open(image_path)\n",
        "    pixels = np.array(img)\n",
        "\n",
        "    # Create an encrypted array\n",
        "    encrypted_pixels = np.zeros_like(pixels)\n",
        "\n",
        "    # Apply a simple XOR operation with the key to encrypt\n",
        "    for i in range(pixels.shape[0]):\n",
        "        for j in range(pixels.shape[1]):\n",
        "            encrypted_pixels[i, j] = pixels[i, j] ^ key\n",
        "\n",
        "    # Save the encrypted image\n",
        "    encrypted_img = Image.fromarray(encrypted_pixels.astype('uint8'))\n",
        "    encrypted_img.save(output_path)\n",
        "    print(f\"Image encrypted and saved to {output_path}\")\n",
        "\n",
        "def decrypt_image(image_path, output_path, key):\n",
        "    # Open the image and convert it to RGB\n",
        "    img = Image.open(image_path)\n",
        "    pixels = np.array(img)\n",
        "\n",
        "    # Create a decrypted array\n",
        "    decrypted_pixels = np.zeros_like(pixels)\n",
        "\n",
        "    # Apply XOR operation with the key to decrypt\n",
        "    for i in range(pixels.shape[0]):\n",
        "        for j in range(pixels.shape[1]):\n",
        "            decrypted_pixels[i, j] = pixels[i, j] ^ key\n",
        "\n",
        "    # Save the decrypted image\n",
        "    decrypted_img = Image.fromarray(decrypted_pixels.astype('uint8'))\n",
        "    decrypted_img.save(output_path)\n",
        "    print(f\"Image decrypted and saved to {output_path}\")\n"
      ]
    }
  ]
}